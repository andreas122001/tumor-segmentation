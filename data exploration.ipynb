{
 "cells": [
  {
   "cell_type": "code",
   "metadata": {
    "ExecuteTime": {
     "end_time": "2024-11-22T20:30:53.402298Z",
     "start_time": "2024-11-22T20:30:49.798380Z"
    }
   },
   "source": [
    "import time\n",
    "\n",
    "import matplotlib.pyplot as plt\n",
    "import monai\n",
    "import numpy as np\n",
    "import torch\n",
    "from monai.config import print_config\n",
    "from monai.transforms import ScaleIntensityd\n",
    "from tqdm import tqdm\n",
    "\n",
    "print_config()\n",
    "from dataset import HNTSDataset\n",
    "\n",
    "dataset = HNTSDataset(\"data/train\", monai.transforms.Compose([\n",
    "    monai.transforms.ScaleIntensityd(keys='image')\n",
    "]))"
   ],
   "outputs": [
    {
     "name": "stderr",
     "output_type": "stream",
     "text": [
      "D:\\repos\\tdt17_mini_project\\venv\\lib\\site-packages\\ignite\\handlers\\checkpoint.py:17: DeprecationWarning: `TorchScript` support for functional optimizers is deprecated and will be removed in a future PyTorch release. Consider using the `torch.compile` optimizer instead.\n",
      "  from torch.distributed.optim import ZeroRedundancyOptimizer\n"
     ]
    },
    {
     "name": "stdout",
     "output_type": "stream",
     "text": [
      "MONAI version: 1.4.0\n",
      "Numpy version: 1.26.4\n",
      "Pytorch version: 2.5.1+cu124\n",
      "MONAI flags: HAS_EXT = False, USE_COMPILED = False, USE_META_DICT = False\n",
      "MONAI rev id: 46a5272196a6c2590ca2589029eed8e4d56ff008\n",
      "MONAI __file__: D:\\repos\\tdt17_mini_project\\venv\\lib\\site-packages\\monai\\__init__.py\n",
      "\n",
      "Optional dependencies:\n",
      "Pytorch Ignite version: 0.4.11\n",
      "ITK version: NOT INSTALLED or UNKNOWN VERSION.\n",
      "Nibabel version: 5.3.2\n",
      "scikit-image version: 0.24.0\n",
      "scipy version: 1.14.1\n",
      "Pillow version: 11.0.0\n",
      "Tensorboard version: 2.18.0\n",
      "gdown version: NOT INSTALLED or UNKNOWN VERSION.\n",
      "TorchVision version: 0.20.1+cu124\n",
      "tqdm version: 4.67.0\n",
      "lmdb version: NOT INSTALLED or UNKNOWN VERSION.\n",
      "psutil version: 6.1.0\n",
      "pandas version: NOT INSTALLED or UNKNOWN VERSION.\n",
      "einops version: 0.8.0\n",
      "transformers version: NOT INSTALLED or UNKNOWN VERSION.\n",
      "mlflow version: NOT INSTALLED or UNKNOWN VERSION.\n",
      "pynrrd version: NOT INSTALLED or UNKNOWN VERSION.\n",
      "clearml version: NOT INSTALLED or UNKNOWN VERSION.\n",
      "\n",
      "For details about installing the optional dependencies, please visit:\n",
      "    https://docs.monai.io/en/latest/installation.html#installing-the-recommended-dependencies\n",
      "\n"
     ]
    }
   ],
   "execution_count": 1
  },
  {
   "metadata": {
    "ExecuteTime": {
     "end_time": "2024-11-22T20:30:55.102972Z",
     "start_time": "2024-11-22T20:30:53.405301Z"
    }
   },
   "cell_type": "code",
   "source": [
    "# Is the data isotropically spaced?\n",
    "spacing = dataset[0]['image'].affine.diagonal()[:3].abs()\n",
    "spacing  # all equal, so yes"
   ],
   "outputs": [
    {
     "data": {
      "text/plain": [
       "tensor([1., 1., 1.], dtype=torch.float64)"
      ]
     },
     "execution_count": 2,
     "metadata": {},
     "output_type": "execute_result"
    }
   ],
   "execution_count": 2
  },
  {
   "metadata": {
    "ExecuteTime": {
     "end_time": "2024-11-22T20:30:57.348271Z",
     "start_time": "2024-11-22T20:30:55.276239Z"
    }
   },
   "cell_type": "code",
   "source": [
    "import ipywidgets as widgets\n",
    "from ipywidgets import interact\n",
    "sample_idx = 10\n",
    "sample = dataset[sample_idx]\n",
    "image = monai.transforms.Orientation(axcodes=\"SPL\")(sample['image'])\n",
    "mask = monai.transforms.Orientation(axcodes=\"SPL\")(sample['mask'])\n",
    "def plot_slice(slice_idx):\n",
    "    image_slice =  image[0,slice_idx]\n",
    "    label0 = mask[0,slice_idx]\n",
    "    label1 = mask[1,slice_idx]\n",
    "    \n",
    "    plt.figure(figsize=(8,8))\n",
    "    plt.imshow(image_slice, cmap=\"gray\", alpha=1.0)\n",
    "    plt.imshow(label0, cmap=\"Reds\", alpha=0.3)\n",
    "    plt.imshow(label1, cmap=\"plasma\", alpha=0.3)\n",
    "    plt.axis(\"off\")\n",
    "    \n",
    "    plt.show()\n",
    "slider = widgets.IntSlider(value=mask.shape[1]//2, min=0, max=mask.shape[1]-1, step=1, description='Slice Index')\n",
    "interact(plot_slice, slice_idx=slider);"
   ],
   "outputs": [
    {
     "data": {
      "text/plain": [
       "interactive(children=(IntSlider(value=84, description='Slice Index', max=168), Output()), _dom_classes=('widge…"
      ],
      "application/vnd.jupyter.widget-view+json": {
       "version_major": 2,
       "version_minor": 0,
       "model_id": "1723b9e6b7ca4148b33576f60e7f7f79"
      }
     },
     "metadata": {},
     "output_type": "display_data"
    }
   ],
   "execution_count": 3
  },
  {
   "metadata": {
    "ExecuteTime": {
     "end_time": "2024-11-22T20:36:04.459728Z",
     "start_time": "2024-11-22T20:30:59.546727Z"
    }
   },
   "cell_type": "code",
   "source": [
    "# Check data shapes\n",
    "shape_tensor = torch.zeros(len(dataset), 4)\n",
    "for i, data in enumerate(tqdm(dataset)):\n",
    "    mask = data['mask']\n",
    "    shape_tensor[i] = torch.tensor(mask.shape)\n",
    "\n",
    "max_d = torch.zeros(4)\n",
    "min_d = torch.zeros(4)\n",
    "for d in range(shape_tensor.shape[1]):\n",
    "    min_d[d] = shape_tensor[:, d].min()\n",
    "    max_d[d] = shape_tensor[:, d].max()\n",
    "    print(d, shape_tensor[:, d].shape)\n",
    "min_d, max_d"
   ],
   "outputs": [
    {
     "name": "stderr",
     "output_type": "stream",
     "text": [
      "100%|██████████| 130/130 [05:04<00:00,  2.35s/it]"
     ]
    },
    {
     "name": "stdout",
     "output_type": "stream",
     "text": [
      "0 torch.Size([130])\n",
      "1 torch.Size([130])\n",
      "2 torch.Size([130])\n",
      "3 torch.Size([130])\n"
     ]
    },
    {
     "name": "stderr",
     "output_type": "stream",
     "text": [
      "\n"
     ]
    },
    {
     "data": {
      "text/plain": [
       "(tensor([  2., 256., 240., 113.]), tensor([  2., 520., 520., 181.]))"
      ]
     },
     "execution_count": 4,
     "metadata": {},
     "output_type": "execute_result"
    }
   ],
   "execution_count": 4
  },
  {
   "cell_type": "code",
   "metadata": {},
   "source": [
    "class_counts = np.array([0, 0, 0], dtype=np.float32)\n",
    "for data in tqdm(dataset):\n",
    "    mask = data['mask']\n",
    "    counts = np.array([len(mask[mask == idx]) for idx in range(3)])  #/ len(dataset)\n",
    "    class_counts += counts\n",
    "class_counts"
   ],
   "outputs": [],
   "execution_count": null
  },
  {
   "cell_type": "code",
   "metadata": {},
   "source": [
    "n = class_counts[1:].sum()\n",
    "c = 2\n",
    "# Class weights\n",
    "n / (c * class_counts)"
   ],
   "outputs": [],
   "execution_count": null
  },
  {
   "cell_type": "code",
   "metadata": {},
   "source": [
    "avg_mask = torch.zeros_like(dataset[0]['mask'])\n",
    "for data in tqdm(dataset):\n",
    "    avg_mask += data['mask']\n",
    "avg_mask /= len(dataset)"
   ],
   "outputs": [],
   "execution_count": null
  },
  {
   "cell_type": "code",
   "metadata": {},
   "source": [
    "plt.imshow(avg_mask.cpu().mean(3).permute(1, 2, 0))\n",
    "plt.axis('off')\n",
    "plt.title(\"Average tumor pixels\");"
   ],
   "outputs": [],
   "execution_count": null
  },
  {
   "cell_type": "code",
   "metadata": {},
   "source": [
    "plt.plot(torch.tensor([t.sum() for t in avg_mask[0].permute(2, 0, 1)]))\n",
    "plt.xlabel(\"Z-level\")\n",
    "plt.ylabel(\"Tumor pixels\")\n",
    "plt.title(\"Average tumor Z-location\")\n",
    "plt.tight_layout();"
   ],
   "outputs": [],
   "execution_count": null
  },
  {
   "cell_type": "code",
   "metadata": {},
   "source": [
    "# Tumor percentage\n",
    "total_pixels = torch.tensor(dataset[0]['mask'].shape).prod()\n",
    "total_tumor = 0\n",
    "total_non_tumor = 0\n",
    "for data in tqdm(dataset):\n",
    "    total_tumor += data['mask'].sum() / total_pixels\n",
    "total_tumor /= len(dataset)\n",
    "total_tumor"
   ],
   "outputs": [],
   "execution_count": null
  },
  {
   "cell_type": "code",
   "metadata": {},
   "source": [
    "max_ = 0\n",
    "min_ = 1000\n",
    "for data in tqdm(dataset):\n",
    "    curr = data['image'].max()\n",
    "    max_ = max_ if max_ >= curr else curr\n",
    "    min_ = min_ if min_ <= curr else min_\n",
    "min_, max_"
   ],
   "outputs": [],
   "execution_count": null
  },
  {
   "cell_type": "code",
   "metadata": {},
   "source": [
    "# Calculate intensity distribution\n",
    "bincounts = torch.zeros(130, 256)\n",
    "for i, data in enumerate(tqdm(dataset)):\n",
    "    intensity_values = data['image'].flatten().divide(max_).multiply(255).round().int()\n",
    "    bincount = torch.bincount(intensity_values, minlength=256)\n",
    "    bincounts[i, :len(bincount)] = bincount"
   ],
   "outputs": [],
   "execution_count": null
  },
  {
   "cell_type": "code",
   "metadata": {},
   "source": [
    "x_extent = 255\n",
    "mean = bincounts.mean(0)[:x_extent]\n",
    "std = bincounts.std(0)[:x_extent]\n",
    "\n",
    "plt.figure(figsize=(6, 6))\n",
    "plt.bar(range(x_extent), mean, alpha=0.5, label='Mean Intensity Distribution', color='green')\n",
    "# plt.fill_between(range(x_extent), mean - std, mean + std, color='lightblue', alpha=0.5, label='Standard Deviation')\n",
    "# plt.yscale('symlog')\n",
    "plt.xlabel('Intensity Value')\n",
    "plt.ylabel('Frequency (Mean Count)')\n",
    "plt.title('Intensity Distribution with Mean and Standard Deviation')\n",
    "plt.legend()\n",
    "plt.show()"
   ],
   "outputs": [],
   "execution_count": null
  },
  {
   "cell_type": "code",
   "metadata": {},
   "source": [
    "monai.visualize.matshow3d(monai.transforms.Orientation(\"SPL\")(dataset[0]['image']), every_n=9, figsize=(6, 6))\n",
    "plt.show()"
   ],
   "outputs": [],
   "execution_count": null
  }
 ],
 "metadata": {
  "kernelspec": {
   "display_name": "Python 3 (ipykernel)",
   "language": "python",
   "name": "python3"
  },
  "language_info": {
   "codemirror_mode": {
    "name": "ipython",
    "version": 3
   },
   "file_extension": ".py",
   "mimetype": "text/x-python",
   "name": "python",
   "nbconvert_exporter": "python",
   "pygments_lexer": "ipython3",
   "version": "3.10.11"
  }
 },
 "nbformat": 4,
 "nbformat_minor": 4
}
