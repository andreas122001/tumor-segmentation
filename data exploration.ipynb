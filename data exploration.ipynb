{
 "cells": [
  {
   "cell_type": "code",
   "execution_count": 1,
   "metadata": {
    "ExecuteTime": {
     "end_time": "2024-11-22T20:30:53.402298Z",
     "start_time": "2024-11-22T20:30:49.798380Z"
    }
   },
   "outputs": [
    {
     "name": "stderr",
     "output_type": "stream",
     "text": [
      "Loading dataset: 100%|██████████| 130/130 [01:16<00:00,  1.70it/s]\n"
     ]
    }
   ],
   "source": [
    "import time\n",
    "\n",
    "import matplotlib.pyplot as plt\n",
    "import monai\n",
    "import monai.transforms\n",
    "import numpy as np\n",
    "import torch\n",
    "from monai.config import print_config\n",
    "from monai.transforms import ScaleIntensityd\n",
    "from tqdm import tqdm\n",
    "\n",
    "# print_config()\n",
    "from dataset import HNTSDataset, create_dataset_dicts\n",
    "\n",
    "dataset = HNTSDataset(\"data/train\", monai.transforms.Compose([\n",
    "    monai.transforms.ScaleIntensityd(keys='image')\n",
    "]))\n",
    "\n",
    "# dataset = monai.data.CacheDataset(create_dataset_dicts(\"data/train\"), monai.transforms.LoadImaged(keys=[\"image\", \"mask\"]))\n",
    "# dataset_test = monai.data.CacheDataset(create_dataset_dicts(\"data/test\"), monai.transforms.LoadImaged(keys=[\"image\", \"mask\"]))"
   ]
  },
  {
   "cell_type": "code",
   "execution_count": 2,
   "metadata": {
    "ExecuteTime": {
     "end_time": "2024-11-22T20:30:55.102972Z",
     "start_time": "2024-11-22T20:30:53.405301Z"
    }
   },
   "outputs": [
    {
     "data": {
      "text/plain": [
       "tensor([1., 1., 1.], dtype=torch.float64)"
      ]
     },
     "execution_count": 2,
     "metadata": {},
     "output_type": "execute_result"
    }
   ],
   "source": [
    "# Is the data isotropically spaced?\n",
    "spacing = dataset[0]['image'].affine.diagonal()[:3].abs()\n",
    "spacing  # all equal, so yes"
   ]
  },
  {
   "cell_type": "code",
   "execution_count": null,
   "metadata": {
    "ExecuteTime": {
     "end_time": "2024-11-22T20:30:57.348271Z",
     "start_time": "2024-11-22T20:30:55.276239Z"
    }
   },
   "outputs": [
    {
     "data": {
      "application/vnd.jupyter.widget-view+json": {
       "model_id": "1723b9e6b7ca4148b33576f60e7f7f79",
       "version_major": 2,
       "version_minor": 0
      },
      "text/plain": [
       "interactive(children=(IntSlider(value=84, description='Slice Index', max=168), Output()), _dom_classes=('widge…"
      ]
     },
     "metadata": {},
     "output_type": "display_data"
    }
   ],
   "source": [
    "import ipywidgets as widgets\n",
    "from ipywidgets import interact\n",
    "sample_idx = 10\n",
    "sample = dataset[sample_idx]\n",
    "image = monai.transforms.Orientation(axcodes=\"SPL\")(sample['image'])\n",
    "mask = monai.transforms.Orientation(axcodes=\"SPL\")(sample['mask'])\n",
    "def plot_slice(slice_idx):\n",
    "    image_slice =  image[0,slice_idx]\n",
    "    label0 = mask[0,slice_idx]\n",
    "    label1 = mask[1,slice_idx]\n",
    "    \n",
    "    plt.figure(figsize=(8,8))\n",
    "    plt.imshow(image_slice, cmap=\"gray\", alpha=1.0)\n",
    "    plt.imshow(label0, cmap=\"Reds\", alpha=0.3)\n",
    "    plt.imshow(label1, cmap=\"plasma\", alpha=0.3)\n",
    "    plt.axis(\"off\")\n",
    "    \n",
    "    plt.show()\n",
    "slider = widgets.IntSlider(value=mask.shape[1]//2, min=0, max=mask.shape[1]-1, step=1, description='Slice Index')\n",
    "interact(plot_slice, slice_idx=slider);"
   ]
  },
  {
   "cell_type": "code",
   "execution_count": 4,
   "metadata": {
    "ExecuteTime": {
     "end_time": "2024-11-22T20:36:04.459728Z",
     "start_time": "2024-11-22T20:30:59.546727Z"
    }
   },
   "outputs": [
    {
     "name": "stderr",
     "output_type": "stream",
     "text": [
      "100%|██████████| 20/20 [00:01<00:00, 10.48it/s]"
     ]
    },
    {
     "name": "stdout",
     "output_type": "stream",
     "text": [
      "0 torch.Size([20])\n",
      "1 torch.Size([20])\n",
      "2 torch.Size([20])\n",
      "3 torch.Size([20])\n"
     ]
    },
    {
     "name": "stderr",
     "output_type": "stream",
     "text": [
      "\n"
     ]
    },
    {
     "data": {
      "text/plain": [
       "(tensor([  2., 256., 256., 123.]), tensor([  2., 520., 520., 173.]))"
      ]
     },
     "execution_count": 4,
     "metadata": {},
     "output_type": "execute_result"
    }
   ],
   "source": [
    "# Check data shapes\n",
    "shape_len = dataset[0]['mask'].shape.__len__()\n",
    "shape_tensor = torch.zeros((len(dataset), shape_len))\n",
    "for i, data in enumerate(tqdm(dataset)):\n",
    "    mask = data['mask']\n",
    "    shape_tensor[i] = torch.tensor(mask.shape)\n",
    "\n",
    "max_d = torch.zeros(shape_len)\n",
    "min_d = torch.zeros(shape_len)\n",
    "for d in range(shape_tensor.shape[1]):\n",
    "    min_d[d] = shape_tensor[:, d].min()\n",
    "    max_d[d] = shape_tensor[:, d].max()\n",
    "    print(d, shape_tensor[:, d].shape)\n",
    "min_d, max_d"
   ]
  },
  {
   "cell_type": "code",
   "execution_count": null,
   "metadata": {},
   "outputs": [
    {
     "data": {
      "text/plain": [
       "metatensor([[[False, False, False,  ..., False, False, False],\n",
       "         [False, False, False,  ..., False, False, False],\n",
       "         [False, False, False,  ..., False, False, False],\n",
       "         ...,\n",
       "         [False, False, False,  ..., False, False, False],\n",
       "         [False, False, False,  ..., False, False, False],\n",
       "         [False, False, False,  ..., False, False, False]],\n",
       "\n",
       "        [[False, False, False,  ..., False, False, False],\n",
       "         [False, False, False,  ..., False, False, False],\n",
       "         [False, False, False,  ..., False, False, False],\n",
       "         ...,\n",
       "         [False, False, False,  ..., False, False, False],\n",
       "         [False, False, False,  ..., False, False, False],\n",
       "         [False, False, False,  ..., False, False, False]],\n",
       "\n",
       "        [[False, False, False,  ..., False, False, False],\n",
       "         [False, False, False,  ..., False, False, False],\n",
       "         [False, False, False,  ..., False, False, False],\n",
       "         ...,\n",
       "         [False, False, False,  ..., False, False, False],\n",
       "         [False, False, False,  ..., False, False, False],\n",
       "         [False, False, False,  ..., False, False, False]],\n",
       "\n",
       "        ...,\n",
       "\n",
       "        [[False, False, False,  ..., False, False, False],\n",
       "         [False, False, False,  ..., False, False, False],\n",
       "         [False, False, False,  ..., False, False, False],\n",
       "         ...,\n",
       "         [False, False, False,  ..., False, False, False],\n",
       "         [False, False, False,  ..., False, False, False],\n",
       "         [False, False, False,  ..., False, False, False]],\n",
       "\n",
       "        [[False, False, False,  ..., False, False, False],\n",
       "         [False, False, False,  ..., False, False, False],\n",
       "         [False, False, False,  ..., False, False, False],\n",
       "         ...,\n",
       "         [False, False, False,  ..., False, False, False],\n",
       "         [False, False, False,  ..., False, False, False],\n",
       "         [False, False, False,  ..., False, False, False]],\n",
       "\n",
       "        [[False, False, False,  ..., False, False, False],\n",
       "         [False, False, False,  ..., False, False, False],\n",
       "         [False, False, False,  ..., False, False, False],\n",
       "         ...,\n",
       "         [False, False, False,  ..., False, False, False],\n",
       "         [False, False, False,  ..., False, False, False],\n",
       "         [False, False, False,  ..., False, False, False]]])"
      ]
     },
     "execution_count": 15,
     "metadata": {},
     "output_type": "execute_result"
    },
    {
     "data": {
      "image/png": "[encoded data removed]",
      "text/plain": [
       "<Figure size 640x480 with 1 Axes>"
      ]
     },
     "metadata": {},
     "output_type": "display_data"
    }
   ],
   "source": [
    "import matplotlib.pyplot as plt\n",
    "dataset[0]['mask'][2]\n",
    "plt.imshow(dataset[0]['mask'][0][:,:,80])\n",
    "\n",
    "(dataset[0]['mask'][2] == 1)"
   ]
  },
  {
   "cell_type": "code",
   "execution_count": 16,
   "metadata": {},
   "outputs": [
    {
     "name": "stderr",
     "output_type": "stream",
     "text": [
      "100%|██████████| 130/130 [00:44<00:00,  2.95it/s]\n"
     ]
    },
    {
     "data": {
      "text/plain": [
       "array([1.9928758e+09, 1.2954240e+06, 1.7363210e+06], dtype=float32)"
      ]
     },
     "execution_count": 16,
     "metadata": {},
     "output_type": "execute_result"
    }
   ],
   "source": [
    "class_counts = np.array([0, 0, 0], dtype=np.float32)\n",
    "for data in tqdm(dataset):\n",
    "    mask = data['mask']\n",
    "    counts = np.array([len(mask[idx][mask[idx] == 1]) for idx in range(3)])  #/ len(dataset)\n",
    "    class_counts += counts\n",
    "class_counts"
   ]
  },
  {
   "cell_type": "code",
   "execution_count": 18,
   "metadata": {},
   "outputs": [
    {
     "data": {
      "text/plain": [
       "0.15189807477727063"
      ]
     },
     "execution_count": 18,
     "metadata": {},
     "output_type": "execute_result"
    }
   ],
   "source": [
    "100* class_counts[1:].sum() / class_counts.sum()"
   ]
  },
  {
   "cell_type": "code",
   "execution_count": null,
   "metadata": {},
   "outputs": [],
   "source": [
    "n = class_counts[1:].sum()\n",
    "c = 2\n",
    "# Class weights\n",
    "n / (c * class_counts)"
   ]
  },
  {
   "cell_type": "code",
   "execution_count": null,
   "metadata": {},
   "outputs": [
    {
     "name": "stderr",
     "output_type": "stream",
     "text": [
      "  1%|          | 1/130 [00:00<00:39,  3.23it/s]\n"
     ]
    },
    {
     "ename": "RuntimeError",
     "evalue": "The size of tensor a (149) must match the size of tensor b (163) at non-singleton dimension 2",
     "output_type": "error",
     "traceback": [
      "\u001b[0;31m---------------------------------------------------------------------------\u001b[0m",
      "\u001b[0;31mRuntimeError\u001b[0m                              Traceback (most recent call last)",
      "Cell \u001b[0;32mIn[23], line 3\u001b[0m\n\u001b[1;32m      1\u001b[0m avg_mask \u001b[38;5;241m=\u001b[39m torch\u001b[38;5;241m.\u001b[39mzeros_like(dataset[\u001b[38;5;241m0\u001b[39m][\u001b[38;5;124m'\u001b[39m\u001b[38;5;124mmask\u001b[39m\u001b[38;5;124m'\u001b[39m][\u001b[38;5;241m0\u001b[39m])\n\u001b[1;32m      2\u001b[0m \u001b[38;5;28;01mfor\u001b[39;00m data \u001b[38;5;129;01min\u001b[39;00m tqdm(dataset):\n\u001b[0;32m----> 3\u001b[0m     avg_mask \u001b[38;5;241m+\u001b[39m\u001b[38;5;241m=\u001b[39m data[\u001b[38;5;124m'\u001b[39m\u001b[38;5;124mmask\u001b[39m\u001b[38;5;124m'\u001b[39m][\u001b[38;5;241m1\u001b[39m:]\u001b[38;5;241m.\u001b[39msum(\u001b[38;5;241m0\u001b[39m)\n\u001b[1;32m      4\u001b[0m avg_mask \u001b[38;5;241m/\u001b[39m\u001b[38;5;241m=\u001b[39m \u001b[38;5;28mlen\u001b[39m(dataset)\n",
      "File \u001b[0;32m/cluster/work/andrebw/medical-image-segmentation/venv/lib/python3.10/site-packages/monai/data/meta_tensor.py:282\u001b[0m, in \u001b[0;36mMetaTensor.__torch_function__\u001b[0;34m(cls, func, types, args, kwargs)\u001b[0m\n\u001b[1;32m    280\u001b[0m \u001b[38;5;28;01mif\u001b[39;00m kwargs \u001b[38;5;129;01mis\u001b[39;00m \u001b[38;5;28;01mNone\u001b[39;00m:\n\u001b[1;32m    281\u001b[0m     kwargs \u001b[38;5;241m=\u001b[39m {}\n\u001b[0;32m--> 282\u001b[0m ret \u001b[38;5;241m=\u001b[39m \u001b[38;5;28;43msuper\u001b[39;49m\u001b[43m(\u001b[49m\u001b[43m)\u001b[49m\u001b[38;5;241;43m.\u001b[39;49m\u001b[43m__torch_function__\u001b[49m\u001b[43m(\u001b[49m\u001b[43mfunc\u001b[49m\u001b[43m,\u001b[49m\u001b[43m \u001b[49m\u001b[43mtypes\u001b[49m\u001b[43m,\u001b[49m\u001b[43m \u001b[49m\u001b[43margs\u001b[49m\u001b[43m,\u001b[49m\u001b[43m \u001b[49m\u001b[43mkwargs\u001b[49m\u001b[43m)\u001b[49m\n\u001b[1;32m    283\u001b[0m \u001b[38;5;66;03m# if `out` has been used as argument, metadata is not copied, nothing to do.\u001b[39;00m\n\u001b[1;32m    284\u001b[0m \u001b[38;5;66;03m# if \"out\" in kwargs:\u001b[39;00m\n\u001b[1;32m    285\u001b[0m \u001b[38;5;66;03m#     return ret\u001b[39;00m\n\u001b[1;32m    286\u001b[0m \u001b[38;5;28;01mif\u001b[39;00m _not_requiring_metadata(ret):\n",
      "File \u001b[0;32m/cluster/work/andrebw/medical-image-segmentation/venv/lib/python3.10/site-packages/torch/_tensor.py:1512\u001b[0m, in \u001b[0;36mTensor.__torch_function__\u001b[0;34m(cls, func, types, args, kwargs)\u001b[0m\n\u001b[1;32m   1509\u001b[0m     \u001b[38;5;28;01mreturn\u001b[39;00m \u001b[38;5;28mNotImplemented\u001b[39m\n\u001b[1;32m   1511\u001b[0m \u001b[38;5;28;01mwith\u001b[39;00m _C\u001b[38;5;241m.\u001b[39mDisableTorchFunctionSubclass():\n\u001b[0;32m-> 1512\u001b[0m     ret \u001b[38;5;241m=\u001b[39m \u001b[43mfunc\u001b[49m\u001b[43m(\u001b[49m\u001b[38;5;241;43m*\u001b[39;49m\u001b[43margs\u001b[49m\u001b[43m,\u001b[49m\u001b[43m \u001b[49m\u001b[38;5;241;43m*\u001b[39;49m\u001b[38;5;241;43m*\u001b[39;49m\u001b[43mkwargs\u001b[49m\u001b[43m)\u001b[49m\n\u001b[1;32m   1513\u001b[0m     \u001b[38;5;28;01mif\u001b[39;00m func \u001b[38;5;129;01min\u001b[39;00m get_default_nowrap_functions():\n\u001b[1;32m   1514\u001b[0m         \u001b[38;5;28;01mreturn\u001b[39;00m ret\n",
      "\u001b[0;31mRuntimeError\u001b[0m: The size of tensor a (149) must match the size of tensor b (163) at non-singleton dimension 2"
     ]
    }
   ],
   "source": [
    "avg_mask = torch.zeros_like(dataset[0]['mask'])\n",
    "for data in tqdm(dataset):\n",
    "    avg_mask += data['mask']\n",
    "avg_mask /= len(dataset)"
   ]
  },
  {
   "cell_type": "code",
   "execution_count": null,
   "metadata": {},
   "outputs": [],
   "source": [
    "plt.imshow(avg_mask.cpu().mean(3).permute(1, 2, 0))\n",
    "plt.axis('off')\n",
    "plt.title(\"Average tumor pixels\");"
   ]
  },
  {
   "cell_type": "code",
   "execution_count": null,
   "metadata": {},
   "outputs": [],
   "source": [
    "plt.plot(torch.tensor([t.sum() for t in avg_mask[0].permute(2, 0, 1)]))\n",
    "plt.xlabel(\"Z-level\")\n",
    "plt.ylabel(\"Tumor pixels\")\n",
    "plt.title(\"Average tumor Z-location\")\n",
    "plt.tight_layout();"
   ]
  },
  {
   "cell_type": "code",
   "execution_count": null,
   "metadata": {},
   "outputs": [],
   "source": [
    "# Tumor percentage\n",
    "total_pixels = torch.tensor(dataset[0]['mask'].shape).prod()\n",
    "total_tumor = 0\n",
    "total_non_tumor = 0\n",
    "for data in tqdm(dataset):\n",
    "    total_tumor += data['mask'].sum() / total_pixels\n",
    "total_tumor /= len(dataset)\n",
    "total_tumor"
   ]
  },
  {
   "cell_type": "code",
   "execution_count": null,
   "metadata": {},
   "outputs": [
    {
     "name": "stderr",
     "output_type": "stream",
     "text": [
      "100%|██████████| 130/130 [00:19<00:00,  6.63it/s]\n"
     ]
    },
    {
     "data": {
      "text/plain": [
       "(metatensor(0.), metatensor(1.))"
      ]
     },
     "execution_count": 40,
     "metadata": {},
     "output_type": "execute_result"
    }
   ],
   "source": [
    "max_ = 0\n",
    "min_ = 1000\n",
    "for data in tqdm(dataset):\n",
    "    image = data['image']\n",
    "    curr_max = image.max()\n",
    "    curr_min = image.min()\n",
    "    max_ = max_ if max_ >= curr_max else curr_max\n",
    "    min_ = min_ if min_ <= curr_min else curr_min\n",
    "min_, max_"
   ]
  },
  {
   "cell_type": "code",
   "execution_count": 44,
   "metadata": {},
   "outputs": [
    {
     "name": "stderr",
     "output_type": "stream",
     "text": [
      "  0%|          | 0/130 [00:00<?, ?it/s]"
     ]
    },
    {
     "name": "stderr",
     "output_type": "stream",
     "text": [
      "100%|██████████| 130/130 [00:29<00:00,  4.41it/s]\n"
     ]
    }
   ],
   "source": [
    "# Calculate intensity distribution\n",
    "bincounts = torch.zeros(130, 256)\n",
    "for i, data in enumerate(tqdm(dataset)):\n",
    "    intensity_values = data['image'].flatten().divide(max_).multiply(255).round().int()\n",
    "    bincount = torch.bincount(intensity_values, minlength=256)\n",
    "    bincounts[i, :len(bincount)] = bincount"
   ]
  },
  {
   "cell_type": "code",
   "execution_count": null,
   "metadata": {},
   "outputs": [],
   "source": [
    "torch.optim.Adam(lr=)"
   ]
  },
  {
   "cell_type": "code",
   "execution_count": 45,
   "metadata": {},
   "outputs": [
    {
     "data": {
      "image/png": "[encoded data removed]",
      "text/plain": [
       "<Figure size 600x600 with 1 Axes>"
      ]
     },
     "metadata": {},
     "output_type": "display_data"
    }
   ],
   "source": [
    "x_extent = 255\n",
    "mean = bincounts.mean(0)[:x_extent]\n",
    "std = bincounts.std(0)[:x_extent]\n",
    "\n",
    "plt.figure(figsize=(6, 6))\n",
    "plt.bar(range(x_extent), mean, alpha=0.5, label='Mean Intensity Distribution', color='green')\n",
    "plt.fill_between(range(x_extent), mean - std, mean + std, color='lightblue', alpha=0.5, label='Standard Deviation')\n",
    "plt.yscale('symlog')\n",
    "plt.xlabel('Intensity Value')\n",
    "plt.ylabel('Frequency (Mean Count)')\n",
    "plt.title('Intensity Distribution with Mean and Standard Deviation')\n",
    "plt.legend()\n",
    "plt.show()"
   ]
  },
  {
   "cell_type": "code",
   "execution_count": null,
   "metadata": {},
   "outputs": [],
   "source": [
    "monai.visualize.matshow3d(monai.transforms.Orientation(\"SPL\")(dataset[0]['image']), every_n=9, figsize=(6, 6))\n",
    "plt.show()"
   ]
  }
 ],
 "metadata": {
  "kernelspec": {
   "display_name": "venv",
   "language": "python",
   "name": "python3"
  },
  "language_info": {
   "codemirror_mode": {
    "name": "ipython",
    "version": 3
   },
   "file_extension": ".py",
   "mimetype": "text/x-python",
   "name": "python",
   "nbconvert_exporter": "python",
   "pygments_lexer": "ipython3",
   "version": "3.10.13"
  }
 },
 "nbformat": 4,
 "nbformat_minor": 4
}
