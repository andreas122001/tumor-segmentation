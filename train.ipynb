{
 "cells": [
  {
   "cell_type": "code",
   "execution_count": null,
   "metadata": {},
   "outputs": [],
   "source": [
    "from dataset import HNTSDataset\n",
    "\n",
    "import monai\n",
    "\n",
    "from monai.transforms import (\n",
    "    Compose,\n",
    "    Resized,\n",
    "    Spacingd,\n",
    "    SpatialCropd,\n",
    "    NormalizeIntensityd,\n",
    "    RandSpatialCropd,\n",
    "    RandFlipd,\n",
    "    RandScaleIntensityd,\n",
    "    RandShiftIntensityd,\n",
    "    Orientationd,\n",
    ")\n",
    "\n",
    "from dataset import HNTSDataset\n",
    "import torch"
   ]
  },
  {
   "cell_type": "code",
   "execution_count": null,
   "metadata": {},
   "outputs": [],
   "source": [
    "class Config:\n",
    "    device = \"cuda\"\n",
    "    batch_size = 1\n",
    "    epochs = 50\n",
    "    lr_init = 1e-2\n",
    "    lr_min = 1e-5\n",
    "    cpu_cores = 8\n",
    "    weight_decay = 1e-5\n",
    "    smooth_nr = 0\n",
    "    smooth_dr = 1e-5\n",
    "config = Config()"
   ]
  },
  {
   "cell_type": "code",
   "execution_count": null,
   "metadata": {},
   "outputs": [],
   "source": [
    "train_transforms = Compose(\n",
    "    [\n",
    "        # Normalization and cropping\n",
    "        Orientationd(keys=[\"image\", \"mask\"], axcodes=\"RAS\"),\n",
    "        Spacingd(\n",
    "            keys=[\"image\", \"mask\"],\n",
    "            pixdim=(1.0, 1.0, 1.0),\n",
    "            mode=(\"bilinear\", \"nearest\"),\n",
    "        ),\n",
    "        RandSpatialCropd(\n",
    "            keys=[\"image\", \"mask\"], roi_size=[256, 256, 96], random_size=False\n",
    "        ),\n",
    "        Resized(\n",
    "            keys=[\"image\", \"mask\"],\n",
    "            spatial_size=(256, 256, 96),\n",
    "            mode=(\"bilinear\", \"nearest\"),\n",
    "        ),\n",
    "        RandFlipd(keys=[\"image\", \"mask\"], prob=0.5, spatial_axis=0),\n",
    "        RandFlipd(keys=[\"image\", \"mask\"], prob=0.5, spatial_axis=1),\n",
    "        RandFlipd(keys=[\"image\", \"mask\"], prob=0.5, spatial_axis=2),\n",
    "        NormalizeIntensityd(keys=\"image\", nonzero=True),\n",
    "        RandScaleIntensityd(keys=\"image\", factors=0.1, prob=1.0),\n",
    "        RandShiftIntensityd(keys=\"image\", offsets=0.1, prob=1.0),\n",
    "    ]\n",
    ")\n",
    "train_dataset = HNTSDataset(\"data/train\", transform=train_transforms)\n",
    "train_loader = monai.data.DataLoader(\n",
    "    train_dataset,\n",
    "    batch_size=config.batch_size,\n",
    "    shuffle=True,\n",
    "    num_workers=config.cpu_cores,\n",
    ")"
   ]
  },
  {
   "cell_type": "code",
   "execution_count": null,
   "metadata": {},
   "outputs": [],
   "source": [
    "test_transforms = Compose(\n",
    "    [\n",
    "        # Normalization\n",
    "        SpatialCropd(\n",
    "            keys=[\"image\", \"mask\"], roi_center=[256, 256, 40], roi_size=[256, 256, 96]\n",
    "        ),\n",
    "        Resized(\n",
    "            keys=[\"image\", \"mask\"],\n",
    "            spatial_size=(256, 256, 96),\n",
    "            mode=(\"bilinear\", \"nearest\"),\n",
    "        ),\n",
    "        NormalizeIntensityd(keys=\"image\"),\n",
    "    ]\n",
    ")\n",
    "test_dataset = HNTSDataset(\"data/test\", transform=test_transforms)\n",
    "test_loader = monai.data.DataLoader(\n",
    "    test_dataset,\n",
    "    batch_size=config.batch_size,\n",
    "    shuffle=False,\n",
    "    num_workers=config.cpu_cores,\n",
    ")"
   ]
  },
  {
   "cell_type": "code",
   "execution_count": null,
   "metadata": {},
   "outputs": [],
   "source": [
    "model = monai.networks.nets.SegResNet(\n",
    "    blocks_down=[1, 2, 2, 4],\n",
    "    blocks_up=[1, 1, 1],\n",
    "    init_filters=16,\n",
    "    in_channels=1,\n",
    "    out_channels=2,\n",
    "    dropout_prob=0.2,\n",
    ").to(config.device)"
   ]
  },
  {
   "cell_type": "code",
   "execution_count": null,
   "metadata": {},
   "outputs": [],
   "source": [
    "from trainer import MedSegTrainer\n",
    "\n",
    "optimizer = torch.optim.Adam(model.parameters(), config.lr_init, weight_decay=config.weight_decay)\n",
    "lr_scheduler = torch.optim.lr_scheduler.CosineAnnealingLR(\n",
    "    optimizer, T_max=config.epochs, eta_min=config.lr_min\n",
    ")\n",
    "loss_function = monai.losses.DiceLoss(\n",
    "    smooth_nr=config.smooth_nr,\n",
    "    smooth_dr=config.smooth_dr,\n",
    "    squared_pred=True,\n",
    "    to_onehot_y=False,  # labels are already separated by channel\n",
    "    sigmoid=True,  # 0 is background, 1 is label\n",
    "    # weight=torch.tensor([1.1886071e+00, 8.6305177e-01]).to(config.device)\n",
    ")\n",
    "trainer = MedSegTrainer(\n",
    "    epochs=config.epochs,\n",
    "    optimizer=optimizer,\n",
    "    lr_scheduler=lr_scheduler,\n",
    "    loss_f=loss_function\n",
    ")\n",
    "trainer.fit(model=model, train_loader=train_loader)"
   ]
  }
 ],
 "metadata": {
  "kernelspec": {
   "display_name": "venv",
   "language": "python",
   "name": "python3"
  },
  "language_info": {
   "name": "python",
   "version": "3.10.13"
  }
 },
 "nbformat": 4,
 "nbformat_minor": 2
}
