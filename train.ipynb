{
 "cells": [
  {
   "cell_type": "code",
   "metadata": {},
   "source": [
    "import torch\n",
    "import monai\n",
    "\n",
    "from monai.transforms import (\n",
    "    Compose,\n",
    "    Resized,\n",
    "    Spacingd,\n",
    "    SpatialCropd,\n",
    "    NormalizeIntensityd,\n",
    "    RandSpatialCropd,\n",
    "    RandFlipd,\n",
    "    RandScaleIntensityd,\n",
    "    RandShiftIntensityd,\n",
    "    Orientationd, Activations, AsDiscrete,\n",
    ")\n",
    "from torch.utils.tensorboard import SummaryWriter\n",
    "\n",
    "from dataset import HNTSDataset\n",
    "from trainer import MedSegTrainer"
   ],
   "outputs": [],
   "execution_count": null
  },
  {
   "cell_type": "code",
   "metadata": {
    "ExecuteTime": {
     "end_time": "2024-11-22T17:38:22.313528Z",
     "start_time": "2024-11-22T17:38:22.302285Z"
    }
   },
   "source": [
    "class Config:\n",
    "    device = \"cuda\"\n",
    "    batch_size = 1\n",
    "    epochs = 1\n",
    "    lr_init = 1e-2\n",
    "    lr_min = 1e-5\n",
    "    cpu_cores = 8\n",
    "    weight_decay = 1e-5\n",
    "    smooth_nr = 0\n",
    "    smooth_dr = 1e-5\n",
    "\n",
    "\n",
    "config = Config()"
   ],
   "outputs": [],
   "execution_count": 2
  },
  {
   "cell_type": "code",
   "metadata": {
    "ExecuteTime": {
     "end_time": "2024-11-22T17:38:22.499549Z",
     "start_time": "2024-11-22T17:38:22.470547Z"
    }
   },
   "source": [
    "train_transforms = Compose(\n",
    "    [\n",
    "        # Normalization and cropping\n",
    "        Orientationd(keys=[\"image\", \"mask\"], axcodes=\"RAS\"),\n",
    "        Spacingd(\n",
    "            keys=[\"image\", \"mask\"],\n",
    "            pixdim=(1.0, 1.0, 1.0),\n",
    "            mode=(\"bilinear\", \"nearest\"),\n",
    "        ),\n",
    "        RandSpatialCropd(\n",
    "            keys=[\"image\", \"mask\"], roi_size=[256, 256, 96], random_size=False\n",
    "        ),\n",
    "        Resized(\n",
    "            keys=[\"image\", \"mask\"],\n",
    "            spatial_size=(256, 256, 96),\n",
    "            mode=(\"bilinear\", \"nearest\"),\n",
    "        ),\n",
    "        RandFlipd(keys=[\"image\", \"mask\"], prob=0.5, spatial_axis=0),\n",
    "        RandFlipd(keys=[\"image\", \"mask\"], prob=0.5, spatial_axis=1),\n",
    "        RandFlipd(keys=[\"image\", \"mask\"], prob=0.5, spatial_axis=2),\n",
    "        NormalizeIntensityd(keys=\"image\", nonzero=True),\n",
    "        RandScaleIntensityd(keys=\"image\", factors=0.1, prob=1.0),\n",
    "        RandShiftIntensityd(keys=\"image\", offsets=0.1, prob=1.0),\n",
    "    ]\n",
    ")\n",
    "train_dataset = HNTSDataset(\"data/train\", transform=train_transforms)\n",
    "train_loader = monai.data.DataLoader(\n",
    "    train_dataset,\n",
    "    batch_size=config.batch_size,\n",
    "    shuffle=True,\n",
    "    num_workers=config.cpu_cores,\n",
    ")"
   ],
   "outputs": [],
   "execution_count": 3
  },
  {
   "cell_type": "code",
   "metadata": {
    "ExecuteTime": {
     "end_time": "2024-11-22T17:38:22.530547Z",
     "start_time": "2024-11-22T17:38:22.516548Z"
    }
   },
   "source": [
    "test_transforms = Compose(\n",
    "    [\n",
    "        # Normalization\n",
    "        SpatialCropd(\n",
    "            keys=[\"image\", \"mask\"], roi_center=[256, 256, 40], roi_size=[256, 256, 96]\n",
    "        ),\n",
    "        Resized(\n",
    "            keys=[\"image\", \"mask\"],\n",
    "            spatial_size=(256, 256, 96),\n",
    "            mode=(\"bilinear\", \"nearest\"),\n",
    "        ),\n",
    "        NormalizeIntensityd(keys=\"image\"),\n",
    "    ]\n",
    ")\n",
    "test_dataset = HNTSDataset(\"data/test\", transform=test_transforms)\n",
    "test_loader = monai.data.DataLoader(\n",
    "    test_dataset,\n",
    "    batch_size=config.batch_size,\n",
    "    shuffle=False,\n",
    "    num_workers=config.cpu_cores,\n",
    ")"
   ],
   "outputs": [],
   "execution_count": 4
  },
  {
   "cell_type": "code",
   "metadata": {
    "ExecuteTime": {
     "end_time": "2024-11-22T17:39:10.167906Z",
     "start_time": "2024-11-22T17:39:10.009394Z"
    }
   },
   "source": [
    "model = monai.networks.nets.SwinUNETR(\n",
    "    in_channels=1,\n",
    "    out_channels=2,\n",
    "    img_size=(256, 256, 96),\n",
    "    spatial_dims=3,\n",
    "    use_checkpoint=False,\n",
    "    use_v2=True,\n",
    ").to(config.device)"
   ],
   "outputs": [],
   "execution_count": 13
  },
  {
   "cell_type": "code",
   "metadata": {},
   "source": [
    "optimizer = torch.optim.Adam(model.parameters(), config.lr_init, weight_decay=config.weight_decay)\n",
    "lr_scheduler = torch.optim.lr_scheduler.CosineAnnealingLR(\n",
    "    optimizer, T_max=config.epochs, eta_min=config.lr_min\n",
    ")\n",
    "loss_function = monai.losses.DiceLoss(\n",
    "    smooth_nr=config.smooth_nr,\n",
    "    smooth_dr=config.smooth_dr,\n",
    "    squared_pred=True,\n",
    "    to_onehot_y=False,  # labels are already separated by channel\n",
    "    sigmoid=True,  # 0 is background, 1 is label\n",
    "    # weight=torch.tensor([1.1886071e+00, 8.6305177e-01]).to(config.device)\n",
    ")\n",
    "writer = SummaryWriter(\"logs/exp1/writer\")\n",
    "trainer = MedSegTrainer(\n",
    "    epochs=config.epochs,\n",
    "    optimizer=optimizer,\n",
    "    lr_scheduler=lr_scheduler,\n",
    "    loss_f=loss_function,\n",
    "    logger=writer\n",
    ")\n",
    "print(\"Fitting model\")\n",
    "trainer.fit(model=model, train_loader=train_loader)\n",
    "\n",
    "print(\"\\nTesting model\")\n",
    "score = trainer.test(\n",
    "    model=model,\n",
    "    test_loader=test_loader,\n",
    "    post_trans=Compose([\n",
    "        Activations(sigmoid=True),  # sigmoid so its between 0 and 1\n",
    "        AsDiscrete(threshold=0.5)  # 0 is background, 1 is the label\n",
    "    ])\n",
    ")\n",
    "for i in range(score.shape[0]):\n",
    "    print(f\"Dice score [{test_dataset.id_to_label[i]}]: {score[i].item():.3f}\")\n"
   ],
   "outputs": [],
   "execution_count": null
  },
  {
   "metadata": {},
   "cell_type": "markdown",
   "source": ""
  }
 ],
 "metadata": {
  "kernelspec": {
   "display_name": "venv",
   "language": "python",
   "name": "python3"
  },
  "language_info": {
   "name": "python",
   "version": "3.10.13"
  }
 },
 "nbformat": 4,
 "nbformat_minor": 2
}
